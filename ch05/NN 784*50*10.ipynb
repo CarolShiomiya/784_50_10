{
 "cells": [
  {
   "cell_type": "code",
   "execution_count": 15,
   "metadata": {},
   "outputs": [
    {
     "name": "stdout",
     "output_type": "stream",
     "text": [
      "0.1415 0.1451\n",
      "0.9018 0.9063\n",
      "0.9233333333333333 0.9257\n",
      "0.9347 0.9355\n",
      "0.94395 0.9419\n",
      "0.9482166666666667 0.9432\n",
      "0.9552666666666667 0.9508\n",
      "0.95975 0.9537\n",
      "0.96405 0.9561\n",
      "0.9673666666666667 0.9602\n",
      "0.9701333333333333 0.9616\n",
      "0.97145 0.9629\n",
      "0.9737833333333333 0.9653\n",
      "0.9744833333333334 0.9671\n",
      "0.9770666666666666 0.9689\n",
      "0.9773 0.9699\n",
      "0.9782 0.9692\n"
     ]
    }
   ],
   "source": [
    "# coding: utf-8\n",
    "import sys, os # OSでディレクトリを変更したりするためのパッケージをインポート\n",
    "#sys.path.append(os.pardir)　#１つ上の階層のディレクトリ内にあるものを読み込めるようにしておけ、という命令（今回はdeep-learning-from-scratch-master）\n",
    "sys.path.append(os.pardir)\n",
    "\n",
    "import numpy as np\n",
    "from dataset.mnist import load_mnist#mnist.pyの中に書かれている関数を使えるようにしろ、という命令、後半はその中からload_mnistをもってこいと命令\n",
    "from two_layer_net import TwoLayerNet\n",
    "\n",
    "# データの読み込み　\n",
    "(x_train, t_train), (x_test, t_test) = load_mnist(normalize=True, one_hot_label=True)#番地に名前をつけて、環境変数とした\n",
    "network = TwoLayerNet(input_size=784, hidden_size=50, output_size=10)#初期化したネットワークを生成\n",
    "\n",
    "iters_num = 10000 #バッチの繰り返し回数\n",
    "train_size = x_train.shape[0] #訓練データの数\n",
    "batch_size = 100#１つのバッチに入っている訓練データの数　　100＊10000の文字読み込みして1つの文字につき、１回の順伝播と逆伝播をする＊延べ１００万回\n",
    "learning_rate = 0.1#勾配降下する際の掛け率\n",
    "\n",
    "train_loss_list = []# ここでは枠だけ作っている\n",
    "train_acc_list = []\n",
    "test_acc_list = []\n",
    "\n",
    "iter_per_epoch = max(train_size / batch_size, 1)#訓練データ60,000/バッチサイズ１００  600バッチ繰り返し/1epoch\n",
    "W1history=[]\n",
    "W2history=[]\n",
    "for i in range(iters_num):\n",
    "    batch_mask = np.random.choice(train_size, batch_size) # 0〜５９，９９９の整数のうち、バッチサイズの数分、ランダムに取り出せ（重複あり）　⭐️\n",
    "    x_batch = x_train[batch_mask]#batch_mask できめた番号のデータをx_batch という環境変数に入れる\n",
    "    t_batch = t_train[batch_mask]#batch_mask の番号に従った取り出し方をした被説明変数（訓練ラベル）のみのリストで、上の説明変数の順序に対応\n",
    "    \n",
    "    # 勾配\n",
    "    #grad = network.numerical_gradient(x_batch, t_batch)\n",
    "    grad = network.gradient(x_batch, t_batch)\n",
    "    \n",
    "    # 更新\n",
    "    for key in ('W1', 'b1', 'W2', 'b2'):\n",
    "        network.params[key] -= learning_rate * grad[key]\n",
    "    W1history.append(network.params['W1'])#1バッチごとにW1history.に行列（weight matrix）を記録（アペンド）\n",
    "    W2history.append(network.params['W2'])#1バッチごとにW2history.に行列（weight matrix）を記録（アペンド）\n",
    "    \n",
    "    loss = network.loss(x_batch, t_batch)\n",
    "    train_loss_list.append(loss)\n",
    "    \n",
    "    if i % iter_per_epoch == 0:#イテレーションの数（600バッチ繰り返し）が600の倍数だった場合に以下のことを行え\n",
    " \n",
    "        train_acc = network.accuracy(x_train, t_train)#two_layer_net.pyを参照\n",
    "        test_acc = network.accuracy(x_test, t_test)\n",
    "        train_acc_list.append(train_acc)#.appendはlist（train_acc）の後ろに新しい数字を加えろ（今回はtrain_acc）　６００バッチ(1epoch)ごとに正答率だせ\n",
    "        test_acc_list.append(test_acc)\n",
    "        print(train_acc, test_acc)#10000バッチ/600バッチ＝16.7epochが出力されている"
   ]
  },
  {
   "cell_type": "code",
   "execution_count": 9,
   "metadata": {},
   "outputs": [
    {
     "data": {
      "text/plain": [
       "array([[-3.84410170e-03, -7.83343624e-04, -2.02522500e-02, ...,\n",
       "        -2.45532402e-03,  7.65641777e-03, -4.54156356e-03],\n",
       "       [-8.85163646e-03,  1.21833373e-02,  5.03240294e-03, ...,\n",
       "        -2.31776473e-02, -2.07549750e-02, -9.23269795e-05],\n",
       "       [-3.46426718e-03, -7.41808165e-03, -1.93704302e-02, ...,\n",
       "        -7.41004334e-04,  7.24132350e-03,  1.08133616e-04],\n",
       "       ...,\n",
       "       [-9.18664886e-03, -5.58960994e-03, -6.08335505e-03, ...,\n",
       "         5.10472274e-03,  1.35361852e-02, -1.18042940e-02],\n",
       "       [ 2.33790100e-03,  2.72261487e-03,  3.15191102e-03, ...,\n",
       "        -4.43319931e-03,  1.83061367e-03, -1.76791809e-04],\n",
       "       [-1.27957924e-02, -1.55837897e-03,  5.22171126e-03, ...,\n",
       "         1.83753893e-02, -2.07202487e-03,  3.10021135e-04]])"
      ]
     },
     "execution_count": 9,
     "metadata": {},
     "output_type": "execute_result"
    }
   ],
   "source": [
    "W1history[0]"
   ]
  },
  {
   "cell_type": "code",
   "execution_count": 33,
   "metadata": {},
   "outputs": [
    {
     "data": {
      "text/plain": [
       "array([ 8008, 48658, 35648, 35489, 49204, 57844, 42356, 59831, 50527,\n",
       "       29361, 42654, 40339, 29219, 14832, 59765,  3310, 14413, 10604,\n",
       "       31005, 54248, 49267, 14935, 35876, 50378, 30792, 27980,  9026,\n",
       "        9040, 57624, 14659, 56606, 46236, 19104, 39593,  7968, 31804,\n",
       "        3657, 38704, 42052, 38655, 55714,   829, 18042,  4377,  2669,\n",
       "       21769, 57364, 37756, 35478, 19865, 55515, 22083, 20649, 43518,\n",
       "       44141, 58630, 43182, 48300, 35258,  8098, 35876, 35071,  1649,\n",
       "       50271, 46676, 41753, 58781, 59688, 23096, 11251,  3834, 22447,\n",
       "       32969, 21777,  4103, 58692, 45635, 50406,  5150, 33766, 22289,\n",
       "        3998, 18385,  3764, 34591, 26979, 28323, 35963,  9463,   349,\n",
       "       31318, 49133, 14839, 44147,  4536, 40204, 16010,  1857, 34122,\n",
       "       42512])"
      ]
     },
     "execution_count": 33,
     "metadata": {},
     "output_type": "execute_result"
    }
   ],
   "source": [
    "np.random.choice(train_size, batch_size)"
   ]
  },
  {
   "cell_type": "code",
   "execution_count": 4,
   "metadata": {},
   "outputs": [],
   "source": [
    "import numpy\n",
    "\n",
    "a = [[3, 4, 5], [6, 7, 8], [9, 10, 11]]\n",
    "nda = numpy.array(a)\n",
    "\n",
    "a2 = [[-3, -4, -5], [-6, -7, -8], [-9, -10, -11]]\n",
    "nda2 = numpy.array(a2)\n",
    "\n",
    "with open('output.txt', 'a') as f_handle:\n",
    "    numpy.savetxt(f_handle, nda)\n",
    "    numpy.savetxt(f_handle, nda2)"
   ]
  },
  {
   "cell_type": "code",
   "execution_count": 16,
   "metadata": {},
   "outputs": [],
   "source": [
    "import pickle\n",
    "import random\n",
    "\n",
    "f = open('W1history.txt', 'wb')\n",
    "pickle.dump(W1history, f)\n"
   ]
  },
  {
   "cell_type": "code",
   "execution_count": 21,
   "metadata": {},
   "outputs": [
    {
     "data": {
      "image/png": "[encoded data removed]",
      "text/plain": [
       "<Figure size 432x288 with 1 Axes>"
      ]
     },
     "metadata": {},
     "output_type": "display_data"
    }
   ],
   "source": [
    "import matplotlib.pyplot\n",
    "matplotlib.pyplot.hist(np.array([1,2,3,4,5]))\n",
    "matplotlib.pyplot.show()"
   ]
  },
  {
   "cell_type": "code",
   "execution_count": null,
   "metadata": {},
   "outputs": [],
   "source": [
    "W1history"
   ]
  },
  {
   "cell_type": "code",
   "execution_count": 17,
   "metadata": {},
   "outputs": [],
   "source": [
    "f = open('W1history2.txt', 'w')\n",
    "for x in W1history:\n",
    "    f.write(str(x) + \"\\n\")\n",
    "f.close()"
   ]
  },
  {
   "cell_type": "code",
   "execution_count": 41,
   "metadata": {},
   "outputs": [
    {
     "name": "stdout",
     "output_type": "stream",
     "text": [
      "[-0.00491572 -0.00491572 -0.00491572 ... -0.00491572 -0.00491572\n",
      " -0.00491572]\n",
      "10000\n"
     ]
    },
    {
     "data": {
      "image/png": "[encoded data removed]",
      "text/plain": [
       "<Figure size 432x288 with 1 Axes>"
      ]
     },
     "metadata": {},
     "output_type": "display_data"
    }
   ],
   "source": [
    "W1history[2][6][3]#3回更新後の、６（７）行目の3（4）列目を表示　　\n",
    "#３番ユニットに入る時の重みベクトルで、第１層にあるの説明変数６番目（７番目）のにつけられる重み　　つまりW47を三回更新した後の重みの値を表示\n",
    "\n",
    "hoge=[]\n",
    "for i in range(len(W1history)):\n",
    "    hoge.append(W1history[i][6][3])\n",
    "fuga=np.array(hoge)\n",
    "\n",
    "print(fuga)\n",
    "print(len(fuga))\n",
    "\n",
    "import matplotlib.pyplot\n",
    "matplotlib.pyplot.hist(fuga,bins=[-0.1,-0.08,-0.06,-0.04,-0.02,0,0.02,0.04,0.06,0.08,0.1])\n",
    "matplotlib.pyplot.show()\n"
   ]
  },
  {
   "cell_type": "code",
   "execution_count": 42,
   "metadata": {},
   "outputs": [
    {
     "data": {
      "text/plain": [
       "0.0"
      ]
     },
     "execution_count": 42,
     "metadata": {},
     "output_type": "execute_result"
    }
   ],
   "source": [
    "max(fuga)-min(fuga)\n"
   ]
  },
  {
   "cell_type": "code",
   "execution_count": null,
   "metadata": {},
   "outputs": [],
   "source": []
  },
  {
   "cell_type": "code",
   "execution_count": 14,
   "metadata": {},
   "outputs": [
    {
     "name": "stderr",
     "output_type": "stream",
     "text": [
      "IOPub data rate exceeded.\n",
      "The notebook server will temporarily stop sending output\n",
      "to the client in order to avoid crashing it.\n",
      "To change this limit, set the config variable\n",
      "`--NotebookApp.iopub_data_rate_limit`.\n",
      "\n",
      "Current values:\n",
      "NotebookApp.iopub_data_rate_limit=1000000.0 (bytes/sec)\n",
      "NotebookApp.rate_limit_window=3.0 (secs)\n",
      "\n"
     ]
    }
   ],
   "source": [
    "f = open(\"W1history.txt\",\"rb\")\n",
    "sampling = pickle.load(f)\n",
    "print(sampling)\n"
   ]
  },
  {
   "cell_type": "code",
   "execution_count": 29,
   "metadata": {},
   "outputs": [
    {
     "data": {
      "text/plain": [
       "array([0, 5, 5, 0, 5, 4, 4])"
      ]
     },
     "execution_count": 29,
     "metadata": {},
     "output_type": "execute_result"
    }
   ],
   "source": [
    "np.random.choice(10, 7)"
   ]
  },
  {
   "cell_type": "code",
   "execution_count": 37,
   "metadata": {},
   "outputs": [
    {
     "data": {
      "text/plain": [
       "'/Users/kensyo/Desktop/deep-learning-from-scratch-master/ch05'"
      ]
     },
     "execution_count": 37,
     "metadata": {},
     "output_type": "execute_result"
    }
   ],
   "source": [
    "import os\n",
    "os.getcwd()"
   ]
  },
  {
   "cell_type": "code",
   "execution_count": 26,
   "metadata": {},
   "outputs": [
    {
     "data": {
      "text/plain": [
       "600.0"
      ]
     },
     "execution_count": 26,
     "metadata": {},
     "output_type": "execute_result"
    }
   ],
   "source": [
    "max(train_size / batch_size, 1)"
   ]
  },
  {
   "cell_type": "code",
   "execution_count": 22,
   "metadata": {},
   "outputs": [
    {
     "data": {
      "text/plain": [
       "array([[0., 0., 0., ..., 0., 0., 0.],\n",
       "       [0., 0., 0., ..., 0., 0., 0.],\n",
       "       [0., 0., 0., ..., 0., 0., 0.],\n",
       "       ...,\n",
       "       [0., 0., 0., ..., 0., 0., 0.],\n",
       "       [0., 0., 0., ..., 0., 0., 0.],\n",
       "       [0., 0., 0., ..., 0., 0., 0.]], dtype=float32)"
      ]
     },
     "execution_count": 22,
     "metadata": {},
     "output_type": "execute_result"
    }
   ],
   "source": [
    "x_train"
   ]
  },
  {
   "cell_type": "code",
   "execution_count": 9,
   "metadata": {},
   "outputs": [
    {
     "data": {
      "text/plain": [
       "60000"
      ]
     },
     "execution_count": 9,
     "metadata": {},
     "output_type": "execute_result"
    }
   ],
   "source": [
    "len( load_mnist()[0][0]) #個数をカウントする場合、len() は１つ下の階層の個数を数える　この場合は丁目と番地を指定しているので何号まであるかを出力"
   ]
  },
  {
   "cell_type": "code",
   "execution_count": 11,
   "metadata": {},
   "outputs": [
    {
     "data": {
      "text/plain": [
       "array([0.        , 0.        , 0.        , 0.        , 0.        ,\n",
       "       0.        , 0.        , 0.        , 0.        , 0.        ,\n",
       "       0.        , 0.        , 0.        , 0.        , 0.        ,\n",
       "       0.        , 0.        , 0.        , 0.        , 0.        ,\n",
       "       0.        , 0.        , 0.        , 0.        , 0.        ,\n",
       "       0.        , 0.        , 0.        , 0.        , 0.        ,\n",
       "       0.        , 0.        , 0.        , 0.        , 0.        ,\n",
       "       0.        , 0.        , 0.        , 0.        , 0.        ,\n",
       "       0.        , 0.        , 0.        , 0.        , 0.        ,\n",
       "       0.        , 0.        , 0.        , 0.        , 0.        ,\n",
       "       0.        , 0.        , 0.        , 0.        , 0.        ,\n",
       "       0.        , 0.        , 0.        , 0.        , 0.        ,\n",
       "       0.        , 0.        , 0.        , 0.        , 0.        ,\n",
       "       0.        , 0.        , 0.        , 0.        , 0.        ,\n",
       "       0.        , 0.        , 0.        , 0.        , 0.        ,\n",
       "       0.        , 0.        , 0.        , 0.        , 0.        ,\n",
       "       0.        , 0.        , 0.        , 0.        , 0.        ,\n",
       "       0.        , 0.        , 0.        , 0.        , 0.        ,\n",
       "       0.        , 0.        , 0.        , 0.        , 0.        ,\n",
       "       0.        , 0.        , 0.        , 0.        , 0.        ,\n",
       "       0.        , 0.        , 0.        , 0.        , 0.        ,\n",
       "       0.        , 0.        , 0.        , 0.        , 0.        ,\n",
       "       0.        , 0.        , 0.        , 0.        , 0.        ,\n",
       "       0.        , 0.        , 0.        , 0.        , 0.        ,\n",
       "       0.        , 0.        , 0.        , 0.        , 0.5686275 ,\n",
       "       1.        , 0.827451  , 0.12156863, 0.        , 0.        ,\n",
       "       0.        , 0.        , 0.        , 0.        , 0.        ,\n",
       "       0.        , 0.        , 0.        , 0.        , 0.        ,\n",
       "       0.        , 0.        , 0.        , 0.        , 0.        ,\n",
       "       0.        , 0.        , 0.        , 0.        , 0.        ,\n",
       "       0.        , 0.1254902 , 0.92941177, 0.99215686, 0.9882353 ,\n",
       "       0.2784314 , 0.        , 0.        , 0.        , 0.        ,\n",
       "       0.        , 0.        , 0.        , 0.        , 0.        ,\n",
       "       0.        , 0.        , 0.        , 0.        , 0.        ,\n",
       "       0.        , 0.        , 0.        , 0.        , 0.        ,\n",
       "       0.        , 0.        , 0.        , 0.        , 0.04313726,\n",
       "       0.6862745 , 0.99215686, 0.9882353 , 0.2784314 , 0.        ,\n",
       "       0.        , 0.        , 0.        , 0.        , 0.        ,\n",
       "       0.        , 0.        , 0.        , 0.        , 0.        ,\n",
       "       0.        , 0.        , 0.        , 0.        , 0.        ,\n",
       "       0.        , 0.        , 0.        , 0.        , 0.        ,\n",
       "       0.        , 0.        , 0.        , 0.5647059 , 0.99215686,\n",
       "       0.9882353 , 0.2784314 , 0.        , 0.        , 0.        ,\n",
       "       0.        , 0.        , 0.        , 0.        , 0.        ,\n",
       "       0.        , 0.        , 0.        , 0.        , 0.        ,\n",
       "       0.        , 0.        , 0.        , 0.        , 0.        ,\n",
       "       0.        , 0.        , 0.        , 0.        , 0.        ,\n",
       "       0.0627451 , 0.7490196 , 0.99215686, 0.9882353 , 0.2784314 ,\n",
       "       0.        , 0.        , 0.        , 0.        , 0.        ,\n",
       "       0.        , 0.        , 0.        , 0.        , 0.        ,\n",
       "       0.        , 0.        , 0.        , 0.        , 0.        ,\n",
       "       0.        , 0.        , 0.        , 0.        , 0.        ,\n",
       "       0.        , 0.        , 0.        , 0.10196079, 0.8666667 ,\n",
       "       0.99215686, 0.9882353 , 0.4862745 , 0.12156863, 0.        ,\n",
       "       0.        , 0.        , 0.        , 0.        , 0.        ,\n",
       "       0.        , 0.        , 0.        , 0.        , 0.        ,\n",
       "       0.        , 0.        , 0.        , 0.        , 0.        ,\n",
       "       0.        , 0.        , 0.        , 0.        , 0.        ,\n",
       "       0.        , 0.        , 0.49019608, 0.99215686, 0.9882353 ,\n",
       "       0.9882353 , 0.42352942, 0.        , 0.        , 0.        ,\n",
       "       0.        , 0.        , 0.        , 0.        , 0.        ,\n",
       "       0.        , 0.        , 0.        , 0.        , 0.        ,\n",
       "       0.        , 0.        , 0.        , 0.        , 0.        ,\n",
       "       0.        , 0.        , 0.        , 0.        , 0.        ,\n",
       "       0.        , 0.99215686, 0.9882353 , 0.9882353 , 0.42352942,\n",
       "       0.        , 0.        , 0.        , 0.        , 0.        ,\n",
       "       0.        , 0.        , 0.        , 0.        , 0.        ,\n",
       "       0.        , 0.        , 0.        , 0.        , 0.        ,\n",
       "       0.        , 0.        , 0.        , 0.        , 0.        ,\n",
       "       0.        , 0.        , 0.        , 0.        , 1.        ,\n",
       "       0.99215686, 0.99215686, 0.42352942, 0.        , 0.        ,\n",
       "       0.        , 0.        , 0.        , 0.        , 0.        ,\n",
       "       0.        , 0.        , 0.        , 0.        , 0.        ,\n",
       "       0.        , 0.        , 0.        , 0.        , 0.        ,\n",
       "       0.        , 0.        , 0.        , 0.        , 0.        ,\n",
       "       0.        , 0.        , 0.99215686, 0.9882353 , 0.9882353 ,\n",
       "       0.42352942, 0.        , 0.        , 0.        , 0.        ,\n",
       "       0.        , 0.        , 0.        , 0.        , 0.        ,\n",
       "       0.        , 0.        , 0.        , 0.        , 0.        ,\n",
       "       0.        , 0.        , 0.        , 0.        , 0.        ,\n",
       "       0.        , 0.        , 0.        , 0.        , 0.        ,\n",
       "       0.99215686, 0.9882353 , 0.9882353 , 0.42352942, 0.        ,\n",
       "       0.        , 0.        , 0.        , 0.        , 0.        ,\n",
       "       0.        , 0.        , 0.        , 0.        , 0.        ,\n",
       "       0.        , 0.        , 0.        , 0.        , 0.        ,\n",
       "       0.        , 0.        , 0.        , 0.        , 0.        ,\n",
       "       0.        , 0.        , 0.        , 0.99215686, 0.9882353 ,\n",
       "       0.9882353 , 0.42352942, 0.        , 0.        , 0.        ,\n",
       "       0.        , 0.        , 0.        , 0.        , 0.        ,\n",
       "       0.        , 0.        , 0.        , 0.        , 0.        ,\n",
       "       0.        , 0.        , 0.        , 0.        , 0.        ,\n",
       "       0.        , 0.        , 0.        , 0.        , 0.        ,\n",
       "       0.        , 1.        , 0.99215686, 0.99215686, 0.6666667 ,\n",
       "       0.        , 0.        , 0.        , 0.        , 0.        ,\n",
       "       0.        , 0.        , 0.        , 0.        , 0.        ,\n",
       "       0.        , 0.        , 0.        , 0.        , 0.        ,\n",
       "       0.        , 0.        , 0.        , 0.        , 0.        ,\n",
       "       0.        , 0.        , 0.        , 0.        , 0.99215686,\n",
       "       0.9882353 , 0.9882353 , 0.9882353 , 0.16470589, 0.        ,\n",
       "       0.        , 0.        , 0.        , 0.        , 0.        ,\n",
       "       0.        , 0.        , 0.        , 0.        , 0.        ,\n",
       "       0.        , 0.        , 0.        , 0.        , 0.        ,\n",
       "       0.        , 0.        , 0.        , 0.        , 0.        ,\n",
       "       0.        , 0.        , 0.58431375, 0.9882353 , 0.9882353 ,\n",
       "       0.9882353 , 0.5647059 , 0.        , 0.        , 0.        ,\n",
       "       0.        , 0.        , 0.        , 0.        , 0.        ,\n",
       "       0.        , 0.        , 0.        , 0.        , 0.        ,\n",
       "       0.        , 0.        , 0.        , 0.        , 0.        ,\n",
       "       0.        , 0.        , 0.        , 0.        , 0.        ,\n",
       "       0.42745098, 0.9882353 , 0.9882353 , 0.9882353 , 0.5647059 ,\n",
       "       0.        , 0.        , 0.        , 0.        , 0.        ,\n",
       "       0.        , 0.        , 0.        , 0.        , 0.        ,\n",
       "       0.        , 0.        , 0.        , 0.        , 0.        ,\n",
       "       0.        , 0.        , 0.        , 0.        , 0.        ,\n",
       "       0.        , 0.        , 0.        , 0.        , 0.85490197,\n",
       "       0.99215686, 0.99215686, 1.        , 0.13725491, 0.        ,\n",
       "       0.        , 0.        , 0.        , 0.        , 0.        ,\n",
       "       0.        , 0.        , 0.        , 0.        , 0.        ,\n",
       "       0.        , 0.        , 0.        , 0.        , 0.        ,\n",
       "       0.        , 0.        , 0.        , 0.        , 0.        ,\n",
       "       0.        , 0.        , 0.6862745 , 0.9882353 , 0.9882353 ,\n",
       "       0.99215686, 0.13725491, 0.        , 0.        , 0.        ,\n",
       "       0.        , 0.        , 0.        , 0.        , 0.        ,\n",
       "       0.        , 0.        , 0.        , 0.        , 0.        ,\n",
       "       0.        , 0.        , 0.        , 0.        , 0.        ,\n",
       "       0.        , 0.        , 0.        , 0.        , 0.        ,\n",
       "       0.28627452, 0.9882353 , 0.9882353 , 0.99215686, 0.13725491,\n",
       "       0.        , 0.        , 0.        , 0.        , 0.        ,\n",
       "       0.        , 0.        , 0.        , 0.        , 0.        ,\n",
       "       0.        , 0.        , 0.        , 0.        , 0.        ,\n",
       "       0.        , 0.        , 0.        , 0.        , 0.        ,\n",
       "       0.        , 0.        , 0.        , 0.12156863, 0.827451  ,\n",
       "       0.9882353 , 0.99215686, 0.13725491, 0.        , 0.        ,\n",
       "       0.        , 0.        , 0.        , 0.        , 0.        ,\n",
       "       0.        , 0.        , 0.        , 0.        , 0.        ,\n",
       "       0.        , 0.        , 0.        , 0.        , 0.        ,\n",
       "       0.        , 0.        , 0.        , 0.        , 0.        ,\n",
       "       0.        , 0.        , 0.        , 0.        , 0.        ,\n",
       "       0.        , 0.        , 0.        , 0.        , 0.        ,\n",
       "       0.        , 0.        , 0.        , 0.        , 0.        ,\n",
       "       0.        , 0.        , 0.        , 0.        , 0.        ,\n",
       "       0.        , 0.        , 0.        , 0.        , 0.        ,\n",
       "       0.        , 0.        , 0.        , 0.        , 0.        ,\n",
       "       0.        , 0.        , 0.        , 0.        , 0.        ,\n",
       "       0.        , 0.        , 0.        , 0.        , 0.        ,\n",
       "       0.        , 0.        , 0.        , 0.        , 0.        ,\n",
       "       0.        , 0.        , 0.        , 0.        , 0.        ,\n",
       "       0.        , 0.        , 0.        , 0.        , 0.        ,\n",
       "       0.        , 0.        , 0.        , 0.        , 0.        ,\n",
       "       0.        , 0.        , 0.        , 0.        , 0.        ,\n",
       "       0.        , 0.        , 0.        , 0.        , 0.        ,\n",
       "       0.        , 0.        , 0.        , 0.        , 0.        ,\n",
       "       0.        , 0.        , 0.        , 0.        , 0.        ,\n",
       "       0.        , 0.        , 0.        , 0.        , 0.        ,\n",
       "       0.        , 0.        , 0.        , 0.        , 0.        ,\n",
       "       0.        , 0.        , 0.        , 0.        , 0.        ,\n",
       "       0.        , 0.        , 0.        , 0.        ], dtype=float32)"
      ]
     },
     "execution_count": 11,
     "metadata": {},
     "output_type": "execute_result"
    }
   ],
   "source": [
    " load_mnist()[0][0][6] #6番目の画像データをピクセルデータとして出力"
   ]
  },
  {
   "cell_type": "code",
   "execution_count": 13,
   "metadata": {},
   "outputs": [
    {
     "data": {
      "text/plain": [
       "1"
      ]
     },
     "execution_count": 13,
     "metadata": {},
     "output_type": "execute_result"
    }
   ],
   "source": [
    " load_mnist()[0][1][6] #6番目の画像データのラベルをピクセルデータとして出力"
   ]
  },
  {
   "cell_type": "code",
   "execution_count": 20,
   "metadata": {},
   "outputs": [
    {
     "data": {
      "text/plain": [
       "(1, 28, 28)"
      ]
     },
     "execution_count": 20,
     "metadata": {},
     "output_type": "execute_result"
    }
   ],
   "source": [
    " load_mnist(normalize=False,flatten=False)[0][0][6].shape"
   ]
  },
  {
   "cell_type": "code",
   "execution_count": null,
   "metadata": {},
   "outputs": [],
   "source": []
  }
 ],
 "metadata": {
  "kernelspec": {
   "display_name": "Python 3",
   "language": "python",
   "name": "python3"
  },
  "language_info": {
   "codemirror_mode": {
    "name": "ipython",
    "version": 3
   },
   "file_extension": ".py",
   "mimetype": "text/x-python",
   "name": "python",
   "nbconvert_exporter": "python",
   "pygments_lexer": "ipython3",
   "version": "3.6.5"
  }
 },
 "nbformat": 4,
 "nbformat_minor": 2
}
